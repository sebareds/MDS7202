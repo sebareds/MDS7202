{
 "cells": [
  {
   "cell_type": "markdown",
   "metadata": {
    "id": "cd7b1b55"
   },
   "source": [
    "<h1><center>Laboratorio 1: Primeros pasos 👣</center></h1>\n",
    "\n",
    "<center><strong>MDS7202: Laboratorio de Programación Científica para Ciencia de Datos - Primavera 2021</strong></center>"
   ]
  },
  {
   "cell_type": "markdown",
   "metadata": {
    "id": "Vp_vOHK7V97e"
   },
   "source": [
    "### Cuerpo Docente:\n",
    "\n",
    "- Profesor: Pablo Badilla\n",
    "- Auxiliar: Ignacio Meza D.\n",
    "- Ayudante: Constanza Peña S."
   ]
  },
  {
   "cell_type": "markdown",
   "metadata": {
    "id": "4N_5AYgyWKyA"
   },
   "source": [
    "### Equipo: SUPER IMPORTANTE - notebooks sin nombre no serán revisados\n",
    "\n",
    "- Nombre de alumno 1: Sebastián Rojas"
   ]
  },
  {
   "cell_type": "markdown",
   "metadata": {
    "id": "1rjlaJDEWxd9"
   },
   "source": [
    "### **Link de repositorio de GitHub:** `https://github.com/sebarojasmorales/MDS7202`"
   ]
  },
  {
   "cell_type": "markdown",
   "metadata": {
    "id": "9el9ERaKWW3i"
   },
   "source": [
    "## Reglas:\n",
    "\n",
    "- Fecha de entrega: 1 semana desde la publicación, 3 días de atraso con 1 punto de descuento c/u. Pueden utilizar días bonus sin descuento.\n",
    "- **Grupos de 2 personas**.\n",
    "- **Ausentes** deberán realizar la actividad solos. \n",
    "- Cualquier duda fuera del horario de clases al foro. Mensajes al equipo docente serán respondidos por este medio.\n",
    "- Prohibidas las copias. \n",
    "- Pueden usar cualquer material del curso que estimen conveniente.\n"
   ]
  },
  {
   "cell_type": "markdown",
   "metadata": {
    "id": "4708b9b7"
   },
   "source": [
    "\n",
    "## Objetivos del lab: \n",
    "\n",
    "\n",
    "- Variables, Operadores y Expresiones.\n",
    "- Estructuras de Control (if/else).\n",
    "- Iteraciones.\n",
    "- Listas y Diccionarios.\n",
    "- Programación Funcional (Map, Filter y Reduce).\n",
    "- Programación Orientada a Objetos (Encapsulamiento, Polimorfismo y Herencia)"
   ]
  },
  {
   "cell_type": "markdown",
   "metadata": {
    "id": "d58b089c"
   },
   "source": [
    "## Parte 1: 🍋 Frutas 🍓\n",
    "\n",
    "En esta primera parte se trabajará lo escencial visto hasta el momento más un poco de programación funcional a través de frutas:\n",
    "\n",
    "<div align='center'>\n",
    "<img src='https://upload.wikimedia.org/wikipedia/commons/a/a2/Berries_in_Berlin.jpg' width=600/>\n",
    "</div>"
   ]
  },
  {
   "cell_type": "markdown",
   "metadata": {
    "id": "5fdf6b19"
   },
   "source": [
    "Defina las siguientes frutas como diccionarios a partir de sus características (nombre, color, tipo y si posee o no pepas):\n",
    "\n",
    "| Nombre    | Tipo     | Color    | Pepas |\n",
    "|-----------|----------|----------|-------|\n",
    "| limon     | cítrica  | amarillo | True  |\n",
    "| naranja   | cítrica  | naranjo  | True  |\n",
    "| plátano   | tropical | amarillo | False |\n",
    "| piña      | tropical | amarillo | False |\n",
    "| frutilla  | bosque   | rojo     | True  |\n",
    "| frambuesa | bosque   | rojo     | True  |"
   ]
  },
  {
   "cell_type": "markdown",
   "metadata": {
    "id": "33aed47b"
   },
   "source": [
    "### Estructurar Datos [0.5 puntos]\n",
    "\n",
    "Agregue Piña, Frutilla y Frambuesa como diccionarios (siga los ejemplos de las frutas dadas) y luego cree un arreglo que contenga estas frutas.\n"
   ]
  },
  {
   "cell_type": "code",
   "execution_count": 41,
   "metadata": {
    "id": "26d23e26"
   },
   "outputs": [],
   "source": [
    "limon = {\n",
    "    \"nombre\": \"limón\", \n",
    "    \"tipo\": \"cítrica\", \n",
    "    \"color\": \"amarillo\", \n",
    "    \"pepas\": True\n",
    "    }\n",
    "\n",
    "naranja = {\"nombre\": \"naranja\", \n",
    "           \"tipo\": \"cítrica\", \n",
    "           \"color\": \"naranjo\", \n",
    "           \"pepas\": True\n",
    "          }\n",
    "\n",
    "platano = {\"nombre\": \"plátano\", \n",
    "           \"tipo\": \"tropical\", \n",
    "           \"color\": \"amarillo\", \n",
    "           \"pepas\": False\n",
    "          }\n",
    "\n",
    "# agregar las frutas que faltan aquí\n",
    "piña = {\"nombre\": \"piña\", \n",
    "           \"tipo\": \"tropical\", \n",
    "           \"color\": \"amarillo\", \n",
    "           \"pepas\": False\n",
    "          }\n",
    "\n",
    "frutilla = {\"nombre\": \"frutilla\", \n",
    "           \"tipo\": \"bosque\", \n",
    "           \"color\": \"rojo\", \n",
    "           \"pepas\": True\n",
    "          }\n",
    "\n",
    "frambuesa = {\"nombre\": \"frambuesa\", \n",
    "           \"tipo\": \"bosque\", \n",
    "           \"color\": \"rojo\", \n",
    "           \"pepas\": True\n",
    "          }"
   ]
  },
  {
   "cell_type": "markdown",
   "metadata": {
    "id": "259ee333"
   },
   "source": [
    "Ahora, agregue todas las frutas a un arreglo."
   ]
  },
  {
   "cell_type": "code",
   "execution_count": 42,
   "metadata": {
    "id": "fcf62186"
   },
   "outputs": [],
   "source": [
    "# Ojo: agregue los datos en el mismo orden que aparecen en la tabla\n",
    "datos = [limon,naranja,platano,piña,frutilla,frambuesa]"
   ]
  },
  {
   "cell_type": "markdown",
   "metadata": {
    "id": "2ed7730e"
   },
   "source": [
    "Este arreglo será la información con la que se trabajará durante el lab."
   ]
  },
  {
   "cell_type": "markdown",
   "metadata": {
    "id": "e9b1e46d"
   },
   "source": [
    "### Funciones Aplicadas a los Datos [1.5 puntos]"
   ]
  },
  {
   "cell_type": "markdown",
   "metadata": {
    "id": "b7b016d6"
   },
   "source": [
    "Elabore las siguientes funciones:\n",
    "    \n",
    "**1. La función `describir(datos)` que genere un arreglo con strings que describan cada fruta de la siguiente manera:**\n",
    "\n",
    "```{El/La} {...} es una fruta de tipo {...} de color {...}. {Presenta/No presenta} pepas en su interior.```\n",
    "    \n",
    "Por ejemplo, para el plátano se debe generar el siguiente string:\n",
    "    \n",
    "```\n",
    "'El plátano es una fruta de tipo tropical de color amarillo. No presenta pepas en su interior.'\n",
    "```\n",
    "    \n",
    "Indicaciones: \n",
    "- Usen formateo o suma de strings, if, else y for.\n",
    "- Para saber si ocupar 'El' o 'La', pueden acceder al nombre de la fruta y ver cual es el último carácter a través de indexadores `string[indice]`.\n",
    "    \n",
    "**2. La función `filtrar_por_pepa(datos, tiene_pepas)` que dado un tipo de fruta y un booleano, retorne las frutas que tienen o no tienen pepas (según el valor de `tiene_pepas`).**\n",
    "    \n",
    "\n",
    "Por ejemplo, `filtrar_por_pepa(datos, True)` deberá retornar un arreglo con los diccionarios de: naranja, limon, frutilla y frambuesa.\n",
    "\n",
    "\n",
    "**3. La función `conteo_colores(datos)` que cree un diccionario que haga un conteo los colores de las frutas.**\n",
    "\n",
    "Para estos datos, la función debería retornar el siguiente diccionario: \n",
    "    \n",
    "```python\n",
    "{\"amarillo\": 3, \"naranjo\": 1, \"rojo\": 2}\n",
    "````"
   ]
  },
  {
   "cell_type": "markdown",
   "metadata": {
    "id": "9Wqh7UyYXXIi"
   },
   "source": [
    "**Desarrollo de código:**"
   ]
  },
  {
   "cell_type": "code",
   "execution_count": 43,
   "metadata": {
    "id": "023bc051"
   },
   "outputs": [],
   "source": [
    "def describir(datos):\n",
    "    # Código Aquí\n",
    "    descripciones=[]\n",
    "    for fruta in datos:\n",
    "        if fruta['nombre'][-1]=='a':\n",
    "            articulo='La'\n",
    "        else:\n",
    "            articulo='El'\n",
    "        if fruta['pepas']:\n",
    "            presenta='Presenta'\n",
    "        else:\n",
    "            presenta='No presenta'\n",
    "        nombre=fruta['nombre']\n",
    "        color=fruta['color']\n",
    "        tipo=fruta['tipo']\n",
    "        descripciones.append(f'{articulo} {nombre} es una fruta de tipo {tipo} de color {color}. {presenta} pepas en su interior.')\n",
    "    return descripciones\n",
    "\n",
    "\n",
    "def filtrar_por_pepa(datos, tiene_pepas):\n",
    "    filtrados=[]\n",
    "    for fruta in datos:\n",
    "        if fruta['pepas']:\n",
    "            filtrados.append(fruta)\n",
    "    return filtrados\n",
    "\n",
    "\n",
    "def conteo_colores(datos):\n",
    "    conteo={}\n",
    "    for fruta in datos:\n",
    "        if fruta['color'] in conteo:\n",
    "            conteo[fruta['color']]+=1\n",
    "        else:\n",
    "            conteo[fruta['color']]=1\n",
    "    return conteo"
   ]
  },
  {
   "cell_type": "markdown",
   "metadata": {
    "id": "5240bec1"
   },
   "source": [
    "El código de la siguiente celda presenta tests para probar sus funciones: Si la ejecución de esta celda no les levanta ninguna excepción, entonces sus funciones están implementadas según lo requerido. Si alguna falla, entonces deberán corregir los errores mostrados. \n",
    "Noten que los strings, diccionarios y en general, los objetos deben ser exactamente idénticos para que el test no falle."
   ]
  },
  {
   "cell_type": "markdown",
   "metadata": {
    "id": "_DWuD58nXd2q"
   },
   "source": [
    "**Ejecuten esta celda para comprobar su código:**"
   ]
  },
  {
   "cell_type": "code",
   "execution_count": 44,
   "metadata": {
    "id": "c39b58c0"
   },
   "outputs": [],
   "source": [
    "# ---------------------------------------------------------------------\n",
    "# test descripciones\n",
    "# note que las frutas deben estar en igual orden para que este assert no falle.\n",
    "\n",
    "descripciones_esperadas = [\n",
    "    \"El limón es una fruta de tipo cítrica de color amarillo. Presenta pepas en su interior.\",\n",
    "    \"La naranja es una fruta de tipo cítrica de color naranjo. Presenta pepas en su interior.\",\n",
    "    \"El plátano es una fruta de tipo tropical de color amarillo. No presenta pepas en su interior.\",\n",
    "    \"La piña es una fruta de tipo tropical de color amarillo. No presenta pepas en su interior.\",\n",
    "    \"La frutilla es una fruta de tipo bosque de color rojo. Presenta pepas en su interior.\",\n",
    "    \"La frambuesa es una fruta de tipo bosque de color rojo. Presenta pepas en su interior.\",\n",
    "]\n",
    "\n",
    "assert descripciones_esperadas == describir(datos)\n",
    "\n",
    "\n",
    "# ---------------------------------------------------------------------\n",
    "# test filtro\n",
    "frutas_con_pepa_esperadas = [\n",
    "    {\"nombre\": \"limón\", \"tipo\": \"cítrica\", \"color\": \"amarillo\", \"pepas\": True},\n",
    "    {\"nombre\": \"naranja\", \"tipo\": \"cítrica\", \"color\": \"naranjo\", \"pepas\": True},\n",
    "    {\"nombre\": \"frutilla\", \"tipo\": \"bosque\", \"color\": \"rojo\", \"pepas\": True},\n",
    "    {\"nombre\": \"frambuesa\", \"tipo\": \"bosque\", \"color\": \"rojo\", \"pepas\": True}\n",
    "]\n",
    "\n",
    "assert frutas_con_pepa_esperadas == filtrar_por_pepa(datos, True)\n",
    "\n",
    "# ---------------------------------------------------------------------\n",
    "# test conteo\n",
    "conteo_esperado = {'amarillo': 3, 'naranjo': 1, 'rojo': 2}\n",
    "\n",
    "\n",
    "assert conteo_esperado == conteo_colores(datos) \n"
   ]
  },
  {
   "cell_type": "markdown",
   "metadata": {
    "id": "ef45d2ea"
   },
   "source": [
    "### Implementaciones Funcionales [1.0 punto] \n",
    "\n",
    "Implementar las funciones de la sección anterior de forma funcional (solo las primeras 2 funciones).\n",
    "\n"
   ]
  },
  {
   "cell_type": "code",
   "execution_count": 45,
   "metadata": {
    "id": "c6ef993a"
   },
   "outputs": [],
   "source": [
    "def describir_funcional(datos):\n",
    "\n",
    "    def generar_descripcion(fruta):\n",
    "        # esta función debería retornar el string para una fruta en particular.\n",
    "        if fruta['nombre'][-1]=='a':\n",
    "            articulo='La'\n",
    "        else:\n",
    "            articulo='El'\n",
    "        if fruta['pepas']:\n",
    "            presenta='Presenta'\n",
    "        else:\n",
    "            presenta='No presenta'\n",
    "        nombre=fruta['nombre']\n",
    "        color=fruta['color']\n",
    "        tipo=fruta['tipo']\n",
    "        return f'{articulo} {nombre} es una fruta de tipo {tipo} de color {color}. {presenta} pepas en su interior.'\n",
    "\n",
    "    descripciones = list(map(generar_descripcion, datos))\n",
    "    return descripciones\n",
    "    \n",
    "def filtrar_por_pepa_funcional(datos, tipo_de_dato):\n",
    "    filtrados=list(filter(lambda dicc: dicc['pepas'], datos))\n",
    "    return filtrados"
   ]
  },
  {
   "cell_type": "markdown",
   "metadata": {
    "id": "fwno3rOhn_jd"
   },
   "source": [
    "Nuevamente más tests, ahora para las funciones con map y filter.\n",
    "\n",
    "**Ejecuten esta celda para comprobar su código:**"
   ]
  },
  {
   "cell_type": "code",
   "execution_count": 46,
   "metadata": {
    "id": "vlRVONAClo3i"
   },
   "outputs": [],
   "source": [
    "assert descripciones_esperadas == describir_funcional(datos)\n",
    "assert frutas_con_pepa_esperadas == filtrar_por_pepa_funcional(datos, True)"
   ]
  },
  {
   "cell_type": "markdown",
   "metadata": {
    "id": "492b941a"
   },
   "source": [
    "## Parte 2: Electrodomésticos 🧃\n",
    "\n",
    "En esta parte se solicitarán un par de clases que permitirá jugar con la Programación Orientada a Objetos.\n",
    "\n",
    "<div align='center'>\n",
    "<img src='https://upload.wikimedia.org/wikipedia/commons/6/67/Breville.jpg' width=400/>\n",
    "</div>"
   ]
  },
  {
   "cell_type": "markdown",
   "metadata": {
    "id": "PDaUTTiLd8fl"
   },
   "source": [
    "### Clase Electrodoméstico [0.5 puntos] \n",
    "\n",
    "\n",
    "\n",
    "\n",
    "Defina la clase `Electrodomestico` que implemente:\n",
    "\n",
    "\n",
    "- Un constructor que defina un atributo de instancia llamado `enchufado` que almacene valores booleanos. \n",
    "- Un método llamado `esta_enchufado(self)` que levante una excepción `Exception` y que termine con la ejecución del programa cuando el atributo enchuado sea `False`. La exepción debe levantar el mensaje `'Alerta ⚠️: El electrodoméstico no está enchufado'`\n",
    "- Un método llamado `enchufar(self)` que cambia el estado de `enchufado` a `True`."
   ]
  },
  {
   "cell_type": "code",
   "execution_count": 47,
   "metadata": {
    "id": "9f8aa475"
   },
   "outputs": [],
   "source": [
    "class Electrodomestico:\n",
    "    \n",
    "    def __init__(self):\n",
    "        # Código Aquí\n",
    "        self.enchufado=False\n",
    "      \n",
    "        \n",
    "    def esta_enchufado(self):\n",
    "        # Código Aquí\n",
    "        if not self.enchufado:\n",
    "            raise Exception(\n",
    "                'Alerta ⚠️: El electrodoméstico no está enchufado'\n",
    "            )\n",
    "        \n",
    "            \n",
    "    def enchufar(self):\n",
    "        # Código Aquí\n",
    "        self.enchufado=True"
   ]
  },
  {
   "cell_type": "markdown",
   "metadata": {
    "id": "d7d477b5"
   },
   "source": [
    "### Clase Jugera [2.5 puntos] \n",
    "\n",
    "\n",
    "<div align='center'>\n",
    "<img src='https://upload.wikimedia.org/wikipedia/commons/b/bb/Liquadora_%28parts%29.JPG' width=400/>\n",
    "</div>\n",
    "\n"
   ]
  },
  {
   "cell_type": "markdown",
   "metadata": {
    "id": "f72a5754"
   },
   "source": [
    "Implemente la clase `Jugera` que extiende `Electrodomestico` y que implemente: \n",
    "\n",
    "\n",
    "- Un constructor que tenga una lista de ingredientes frutales (llamado `bandeja`).\n",
    "\n",
    "\n",
    "- Un método llamado `agregar_ingrediente(self, nueva_fruta)` que dado una fruta, agregue esa fruta a la `bandeja`.\n",
    "\n",
    "- Un método llamado `listar_ingredientes(self)` que imprima (con `print`) los ingredientes actuales de la `bandeja` de la siguiente forma: \n",
    "\n",
    "    `Ingredientes en la bandeja: frutilla, frambuesa, piña.`\n",
    "\n",
    "    Hint: Investigar el método `join` de un string para generar el string con los nombres de las frutas.\n",
    "    \n",
    "    \n",
    "    \n",
    "\n",
    "- Un método llamado `preparar_jugo(self)` que: \n",
    "    - Primero verifique que el electrodoméstico esté enchufado usando `self.esta_enchufado()`.\n",
    "    - Verifique que haya por lo menos un ingrediente en la `bandeja`. En el caso que no haya, levantar una excepción con contenido `'Error ❌: La bandeja no tiene ingredientes.'`\n",
    "    - Verifique que ninguna fruta tenga pepas. En el caso que haya alguna, imprimir (con `print`) el mensaje de advertencia `'Alerta ⚠️: El jugo puede contener restos de pepas.'`. Puede usar la función definida en la sección anterior.\n",
    "    - Genere un mensaje indicado `Jugo de {nombres de las frutas separadas por una ,} listo. 🏖️🥤 Que lo disfrutes!!! 🥤🏖️. ` (Hint: Usar nuevamente `join`).\n",
    "    - Vacie la `bandeja` (es decir, eliminar todas las frutas de la bandeja).\n",
    "    - Retorne el mensaje generado.\n"
   ]
  },
  {
   "cell_type": "code",
   "execution_count": 48,
   "metadata": {
    "id": "d9db037b"
   },
   "outputs": [],
   "source": [
    "class Jugera(Electrodomestico):\n",
    "    \n",
    "    def __init__(self):\n",
    "        super().__init__()\n",
    "        # Código Aquí\n",
    "        self.bandeja=[]\n",
    "\n",
    "    def agregar_ingrediente(self, nueva_fruta):\n",
    "        self.bandeja.append(nueva_fruta)\n",
    "    \n",
    "    def listar_ingredientes(self):\n",
    "        # Código Aquí\n",
    "        if len(self.bandeja)>0:\n",
    "            ingredientes=list(map(lambda dic: dic['nombre'],self.bandeja))\n",
    "            print('Ingredientes en la bandeja: '+', '.join(ingredientes)+'.')\n",
    "        else:\n",
    "            print('Bandeja vacía')\n",
    "    \n",
    "    def preparar_jugo(self):\n",
    "        # Código Aquí\n",
    "        self.esta_enchufado()\n",
    "        if len(self.bandeja)==0:\n",
    "            raise Exception(\n",
    "                'Error ❌: La bandeja no tiene ingredientes.'\n",
    "            )\n",
    "        frutas_con_pepas=filtrar_por_pepa_funcional(self.bandeja,True)\n",
    "        if len(frutas_con_pepas)>0:\n",
    "            print('Alerta ⚠️: El jugo puede contener restos de pepas.')\n",
    "        ingredientes=list(map(lambda dic: dic['nombre'],self.bandeja))\n",
    "        mensaje='Jugo de '+', '.join(ingredientes)+' listo. 🏖️🥤 Que lo disfrutes!!! 🥤🏖️.'\n",
    "        self.bandeja=[]\n",
    "        return mensaje"
   ]
  },
  {
   "cell_type": "markdown",
   "metadata": {
    "id": "6889015a"
   },
   "source": [
    "### Interacciones\n",
    "\n",
    "Las siguientes celdas les permitirán probar las interacciones de esta clase.\n",
    "La ejecución es solo referencial y no lleva puntaje. La idea es que la utilice como guía para desarrollar la clase."
   ]
  },
  {
   "cell_type": "code",
   "execution_count": 49,
   "metadata": {
    "id": "913af660",
    "outputId": "ce258367-a758-4398-f4a8-f081245bfa60"
   },
   "outputs": [
    {
     "name": "stdout",
     "output_type": "stream",
     "text": [
      "Bandeja vacía\n"
     ]
    }
   ],
   "source": [
    "jugera = Jugera()\n",
    "\n",
    "# Como no tenemos ingredientes, listar_ingredientes deberá imprimir 'Bandeja vacía'\n",
    "jugera.listar_ingredientes()"
   ]
  },
  {
   "cell_type": "code",
   "execution_count": 50,
   "metadata": {
    "id": "9d06bf3e",
    "outputId": "6ce58841-fbaa-43a5-eea6-2b0842e77ed4",
    "scrolled": false
   },
   "outputs": [
    {
     "ename": "Exception",
     "evalue": "Alerta ⚠️: El electrodoméstico no está enchufado",
     "output_type": "error",
     "traceback": [
      "\u001b[1;31m---------------------------------------------------------------------------\u001b[0m",
      "\u001b[1;31mException\u001b[0m                                 Traceback (most recent call last)",
      "\u001b[1;32m<ipython-input-50-12a82fa67e1d>\u001b[0m in \u001b[0;36m<module>\u001b[1;34m\u001b[0m\n\u001b[0;32m      1\u001b[0m \u001b[1;31m# Esta celda debería levantar una excepcion indicando que no está enchufada la jugera.\u001b[0m\u001b[1;33m\u001b[0m\u001b[1;33m\u001b[0m\u001b[1;33m\u001b[0m\u001b[0m\n\u001b[1;32m----> 2\u001b[1;33m \u001b[0mjugera\u001b[0m\u001b[1;33m.\u001b[0m\u001b[0mpreparar_jugo\u001b[0m\u001b[1;33m(\u001b[0m\u001b[1;33m)\u001b[0m\u001b[1;33m\u001b[0m\u001b[1;33m\u001b[0m\u001b[0m\n\u001b[0m",
      "\u001b[1;32m<ipython-input-48-e98a894cada6>\u001b[0m in \u001b[0;36mpreparar_jugo\u001b[1;34m(self)\u001b[0m\n\u001b[0;32m     19\u001b[0m     \u001b[1;32mdef\u001b[0m \u001b[0mpreparar_jugo\u001b[0m\u001b[1;33m(\u001b[0m\u001b[0mself\u001b[0m\u001b[1;33m)\u001b[0m\u001b[1;33m:\u001b[0m\u001b[1;33m\u001b[0m\u001b[1;33m\u001b[0m\u001b[0m\n\u001b[0;32m     20\u001b[0m         \u001b[1;31m# Código Aquí\u001b[0m\u001b[1;33m\u001b[0m\u001b[1;33m\u001b[0m\u001b[1;33m\u001b[0m\u001b[0m\n\u001b[1;32m---> 21\u001b[1;33m         \u001b[0mself\u001b[0m\u001b[1;33m.\u001b[0m\u001b[0mesta_enchufado\u001b[0m\u001b[1;33m(\u001b[0m\u001b[1;33m)\u001b[0m\u001b[1;33m\u001b[0m\u001b[1;33m\u001b[0m\u001b[0m\n\u001b[0m\u001b[0;32m     22\u001b[0m         \u001b[1;32mif\u001b[0m \u001b[0mlen\u001b[0m\u001b[1;33m(\u001b[0m\u001b[0mself\u001b[0m\u001b[1;33m.\u001b[0m\u001b[0mbandeja\u001b[0m\u001b[1;33m)\u001b[0m\u001b[1;33m==\u001b[0m\u001b[1;36m0\u001b[0m\u001b[1;33m:\u001b[0m\u001b[1;33m\u001b[0m\u001b[1;33m\u001b[0m\u001b[0m\n\u001b[0;32m     23\u001b[0m             raise Exception(\n",
      "\u001b[1;32m<ipython-input-47-291abb9f8ad2>\u001b[0m in \u001b[0;36mesta_enchufado\u001b[1;34m(self)\u001b[0m\n\u001b[0;32m      9\u001b[0m         \u001b[1;31m# Código Aquí\u001b[0m\u001b[1;33m\u001b[0m\u001b[1;33m\u001b[0m\u001b[1;33m\u001b[0m\u001b[0m\n\u001b[0;32m     10\u001b[0m         \u001b[1;32mif\u001b[0m \u001b[1;32mnot\u001b[0m \u001b[0mself\u001b[0m\u001b[1;33m.\u001b[0m\u001b[0menchufado\u001b[0m\u001b[1;33m:\u001b[0m\u001b[1;33m\u001b[0m\u001b[1;33m\u001b[0m\u001b[0m\n\u001b[1;32m---> 11\u001b[1;33m             raise Exception(\n\u001b[0m\u001b[0;32m     12\u001b[0m                 \u001b[1;34m'Alerta ⚠️: El electrodoméstico no está enchufado'\u001b[0m\u001b[1;33m\u001b[0m\u001b[1;33m\u001b[0m\u001b[0m\n\u001b[0;32m     13\u001b[0m             )\n",
      "\u001b[1;31mException\u001b[0m: Alerta ⚠️: El electrodoméstico no está enchufado"
     ]
    }
   ],
   "source": [
    "# Esta celda debería levantar una excepcion indicando que no está enchufada la jugera.\n",
    "jugera.preparar_jugo()"
   ]
  },
  {
   "cell_type": "code",
   "execution_count": 51,
   "metadata": {
    "id": "3ad38f18"
   },
   "outputs": [],
   "source": [
    "# Enchufamos el electrodoméstico\n",
    "jugera.enchufar()"
   ]
  },
  {
   "cell_type": "code",
   "execution_count": 52,
   "metadata": {
    "id": "48009872",
    "outputId": "5b46ee29-ad22-46a4-aebe-d9bd7c5325c2",
    "scrolled": true
   },
   "outputs": [
    {
     "ename": "Exception",
     "evalue": "Error ❌: La bandeja no tiene ingredientes.",
     "output_type": "error",
     "traceback": [
      "\u001b[1;31m---------------------------------------------------------------------------\u001b[0m",
      "\u001b[1;31mException\u001b[0m                                 Traceback (most recent call last)",
      "\u001b[1;32m<ipython-input-52-763feb2b9970>\u001b[0m in \u001b[0;36m<module>\u001b[1;34m\u001b[0m\n\u001b[0;32m      1\u001b[0m \u001b[1;31m# Esta celda debería levantar ina excepción informandoles que la bandeja no tiene ingredientes.\u001b[0m\u001b[1;33m\u001b[0m\u001b[1;33m\u001b[0m\u001b[1;33m\u001b[0m\u001b[0m\n\u001b[1;32m----> 2\u001b[1;33m \u001b[0mjugera\u001b[0m\u001b[1;33m.\u001b[0m\u001b[0mpreparar_jugo\u001b[0m\u001b[1;33m(\u001b[0m\u001b[1;33m)\u001b[0m\u001b[1;33m\u001b[0m\u001b[1;33m\u001b[0m\u001b[0m\n\u001b[0m",
      "\u001b[1;32m<ipython-input-48-e98a894cada6>\u001b[0m in \u001b[0;36mpreparar_jugo\u001b[1;34m(self)\u001b[0m\n\u001b[0;32m     21\u001b[0m         \u001b[0mself\u001b[0m\u001b[1;33m.\u001b[0m\u001b[0mesta_enchufado\u001b[0m\u001b[1;33m(\u001b[0m\u001b[1;33m)\u001b[0m\u001b[1;33m\u001b[0m\u001b[1;33m\u001b[0m\u001b[0m\n\u001b[0;32m     22\u001b[0m         \u001b[1;32mif\u001b[0m \u001b[0mlen\u001b[0m\u001b[1;33m(\u001b[0m\u001b[0mself\u001b[0m\u001b[1;33m.\u001b[0m\u001b[0mbandeja\u001b[0m\u001b[1;33m)\u001b[0m\u001b[1;33m==\u001b[0m\u001b[1;36m0\u001b[0m\u001b[1;33m:\u001b[0m\u001b[1;33m\u001b[0m\u001b[1;33m\u001b[0m\u001b[0m\n\u001b[1;32m---> 23\u001b[1;33m             raise Exception(\n\u001b[0m\u001b[0;32m     24\u001b[0m                 \u001b[1;34m'Error ❌: La bandeja no tiene ingredientes.'\u001b[0m\u001b[1;33m\u001b[0m\u001b[1;33m\u001b[0m\u001b[0m\n\u001b[0;32m     25\u001b[0m             )\n",
      "\u001b[1;31mException\u001b[0m: Error ❌: La bandeja no tiene ingredientes."
     ]
    }
   ],
   "source": [
    "# Esta celda debería levantar ina excepción informandoles que la bandeja no tiene ingredientes.\n",
    "jugera.preparar_jugo()"
   ]
  },
  {
   "cell_type": "code",
   "execution_count": 53,
   "metadata": {
    "id": "4873e0bf",
    "outputId": "e8ba6792-dd0e-4b67-86d1-da1b2e2aab6b"
   },
   "outputs": [
    {
     "name": "stdout",
     "output_type": "stream",
     "text": [
      "Ingredientes en la bandeja: naranja, plátano.\n"
     ]
    }
   ],
   "source": [
    "# Agregamos algunos ingredientes\n",
    "jugera.agregar_ingrediente(naranja)\n",
    "jugera.agregar_ingrediente(platano)\n",
    "\n",
    "# Y los listamos (debería imprimir: 'Ingredientes en la bandeja: naranja, plátano')\n",
    "jugera.listar_ingredientes()"
   ]
  },
  {
   "cell_type": "code",
   "execution_count": 54,
   "metadata": {
    "id": "ff555151",
    "outputId": "219e56f9-290e-4514-a404-d2612d8756d5"
   },
   "outputs": [
    {
     "name": "stdout",
     "output_type": "stream",
     "text": [
      "Alerta ⚠️: El jugo puede contener restos de pepas.\n"
     ]
    },
    {
     "data": {
      "text/plain": [
       "'Jugo de naranja, plátano listo. 🏖️🥤 Que lo disfrutes!!! 🥤🏖️.'"
      ]
     },
     "execution_count": 54,
     "metadata": {},
     "output_type": "execute_result"
    }
   ],
   "source": [
    "# Preparamos el jugo: 'Jugo de naranja, plátano listo. 🏖️🥤 Que lo disfrutes!!! 🥤🏖️.'\n",
    "jugera.preparar_jugo()"
   ]
  },
  {
   "cell_type": "code",
   "execution_count": 55,
   "metadata": {
    "id": "bbc532b2",
    "outputId": "066e90cc-99c7-487c-c262-a1be46aac7a4"
   },
   "outputs": [
    {
     "name": "stdout",
     "output_type": "stream",
     "text": [
      "Bandeja vacía\n"
     ]
    }
   ],
   "source": [
    "# Una vez preparado el jugo, debería vaciarse la bandeja (imprimir Bandeja vacía)\n",
    "jugera.listar_ingredientes()"
   ]
  },
  {
   "cell_type": "markdown",
   "metadata": {
    "id": "972dbcac"
   },
   "source": [
    "## Bonus [0.5]\n",
    "\n",
    "Implementar `bandeja` usando una `property` que permita setear una `nueva_bandeja` como `bandeja` según las siguientes condiciones:\n",
    "\n",
    "\n",
    "- Compruebe que `nueva_bandeja` sea una lista. En caso contrario, levante una excepción.\n",
    "- No permita agregar más de 3 ingredientes a la bandeja a la vez. Si se entregan más de 3 frutas, se levante una excepción.\n",
    "- Se compruebe que todos los elementos del arreglo sean frutas. Para esto, por cada fruta compruebe que:\n",
    "    1. La fruta sea diccionario.\n",
    "    2. El diccionario entregado tenga las llaves `nombre`, `tipo`, `color` y `pepas`."
   ]
  },
  {
   "cell_type": "code",
   "execution_count": 56,
   "metadata": {
    "id": "cVRf_u57sI0i"
   },
   "outputs": [],
   "source": [
    "class Jugera(Electrodomestico):\n",
    "    \n",
    "    \n",
    "    def __init__(self):\n",
    "        # Código Aquí\n",
    "        self._bandeja=[]\n",
    "\n",
    "    @property\n",
    "    def bandeja(self):\n",
    "        # Código Aquí\n",
    "        return self._bandeja\n",
    "        \n",
    "    @bandeja.setter\n",
    "    def bandeja(self, nueva_bandeja):\n",
    "        # Código Aquí\n",
    "        if isinstance(nueva_bandeja,list):\n",
    "            if len(nueva_bandeja)<=3:\n",
    "                for fruta in nueva_bandeja:\n",
    "                    if not isinstance(fruta,dict):\n",
    "                        raise Exception(\n",
    "                            'Error ❌: Las frutas deben ser diccionarios'\n",
    "                        )\n",
    "                    else:\n",
    "                        llaves=fruta.keys()\n",
    "                        if not (('nombre' in llaves) and ('tipo' in llaves) and ('color' in llaves) and ('pepas' in llaves)):\n",
    "                            raise Exception(\n",
    "                                'Error ❌: Los diccionarios de las frutas deben tener las llaves \\\"nombre\\\", \\\"tipo\\\", \\\"color\\\", \\\"pepas\\\".'\n",
    "                            )\n",
    "                self._bandeja=nueva_bandeja\n",
    "                \n",
    "            else:\n",
    "                raise Exception(\n",
    "                    'Error ❌: No se pueden agregar más de 3 frutas a la vez.'\n",
    "                )\n",
    "        else:\n",
    "            raise Exception(\n",
    "                'Error ❌: La nueva bandeja debe ser una lista.'\n",
    "            )\n",
    "            \n",
    "\n",
    "    def agregar_ingrediente(self, nueva_fruta):\n",
    "        # Código Aquí\n",
    "        if isinstance(nueva_fruta,dict):\n",
    "            llaves=nueva_fruta.keys()\n",
    "            if ('nombre' in llaves) and ('tipo' in llaves) and ('color' in llaves) and ('pepas' in llaves):\n",
    "                self._bandeja.append(nueva_fruta)\n",
    "            else:\n",
    "                raise Exception(\n",
    "                    'Error ❌: El diccionario de la fruta debe tener las llaves \\\"nombre\\\", \\\"tipo\\\", \\\"color\\\", \\\"pepas\\\".'\n",
    "                )\n",
    "        else:\n",
    "            raise Exception(\n",
    "                    'Error ❌: La fruta debe ser un diccionario.'\n",
    "                )\n",
    "                \n",
    "    def listar_ingredientes(self):\n",
    "        # Código Aquí\n",
    "        if len(self._bandeja)>0:\n",
    "            ingredientes=list(map(lambda dic: dic['nombre'],self._bandeja))\n",
    "            print('Ingredientes en la bandeja: '+', '.join(ingredientes)+'.')\n",
    "        else:\n",
    "            print('Bandeja vacía')\n",
    "    \n",
    "    def preparar_jugo(self):\n",
    "        # Código Aquí\n",
    "        self.esta_enchufado()\n",
    "        if len(self._bandeja)==0:\n",
    "            raise Exception(\n",
    "                'Error ❌: La bandeja no tiene ingredientes.'\n",
    "            )\n",
    "        frutas_con_pepas=filtrar_por_pepa_funcional(self._bandeja,True)\n",
    "        if len(frutas_con_pepas)>0:\n",
    "            print('Alerta ⚠️: El jugo puede contener restos de pepas.')\n",
    "        ingredientes=list(map(lambda dic: dic['nombre'],self._bandeja))\n",
    "        mensaje='Jugo de '+', '.join(ingredientes)+' listo. 🏖️🥤 Que lo disfrutes!!! 🥤🏖️.'\n",
    "        self._bandeja=[]\n",
    "        return mensaje"
   ]
  }
 ],
 "metadata": {
  "colab": {
   "collapsed_sections": [],
   "name": "Lab1_enunciado.ipynb",
   "provenance": [],
   "toc_visible": true
  },
  "kernelspec": {
   "display_name": "Python 3",
   "language": "python",
   "name": "python3"
  },
  "language_info": {
   "codemirror_mode": {
    "name": "ipython",
    "version": 3
   },
   "file_extension": ".py",
   "mimetype": "text/x-python",
   "name": "python",
   "nbconvert_exporter": "python",
   "pygments_lexer": "ipython3",
   "version": "3.8.5"
  }
 },
 "nbformat": 4,
 "nbformat_minor": 5
}
